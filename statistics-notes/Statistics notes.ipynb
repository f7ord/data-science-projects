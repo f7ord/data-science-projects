{
 "cells": [
  {
   "cell_type": "markdown",
   "id": "0615c116-c2d1-41b3-9488-6c73c84364cf",
   "metadata": {},
   "source": [
    "# Exploratory Data Analysis"
   ]
  },
  {
   "cell_type": "markdown",
   "id": "e9b0511b-af46-4bd8-bac6-7ff0fbd9e2c9",
   "metadata": {},
   "source": [
    "This is the first step in any data science project."
   ]
  },
  {
   "cell_type": "markdown",
   "id": "32dedd5d-7e36-4701-b59a-5a1fcf67d1e8",
   "metadata": {},
   "source": [
    "## Elements of Structured Data "
   ]
  },
  {
   "cell_type": "markdown",
   "id": "f6f51c87-d7e7-48a7-8b5f-18cf45ed86f1",
   "metadata": {},
   "source": [
    "There are two basic types of structured data: **numeric** and **categorical**.\n",
    "- Numeric data comes in two forms: *continuous*, such as wind speed or time duration, and *discrete*, such as the count of the occurrence of an event.\n",
    "- Categorical data takes only a fixed set of values, such as blood type, gender, or a country name. One type of categorical data is *binary* data which takes on only one of two values, such as 0/1, true/false. Another type of categorical data is *ordinal* data in which the categories are ordered, such as a numerical rating 1,2,3,4,5"
   ]
  },
  {
   "cell_type": "markdown",
   "id": "389543ef-bdce-4359-a157-96c6918b7170",
   "metadata": {},
   "source": [
    "The data type is important to help determine the type of visual display, data analysis, or statistical model."
   ]
  },
  {
   "cell_type": "markdown",
   "id": "07612a4b-b6d4-494c-a5fb-a4f442455871",
   "metadata": {},
   "source": [
    "## Estimates of Location or Measures of Central Tendency"
   ]
  },
  {
   "cell_type": "markdown",
   "id": "23316969-5586-4c3c-92f2-d2cbbb30396c",
   "metadata": {},
   "source": [
    "Numeric data might have thousands of distinct values. A basic step in exploring the data is getting a \"typical value\" for each feature (variable): an estimate of where most of the data is located."
   ]
  },
  {
   "cell_type": "markdown",
   "id": "614ae27a-f017-4ec2-bb8f-e3a8d5d428bf",
   "metadata": {},
   "source": [
    "### Mean"
   ]
  },
  {
   "cell_type": "markdown",
   "id": "14cc76ba-328a-4954-9f04-ebe4438e8ffc",
   "metadata": {},
   "source": [
    "is the sum of all values divided by the number of values.\n",
    "<code>feature.mean()</code><br>\n",
    "Other variations of the mean are:\n",
    "- the *trimmed mean* which is calculated by dropping a fixed number of sorted values at each end and then taking an average of the remaining values. The trimmed mean eliminates the influence of extreme values (outliers).<code>\n",
    "  from scipy.stats import trim_mean\n",
    "  trim_mean(feature, 0.1)\n",
    "  </code>\n",
    "  \n",
    "- the *weighted mean* which you calculate by multiplying each data value x<sub>i</sub>, by a user-specified weight w<sub>i</sub> and dividing their sum by the sum of the weights.\n",
    "    <code>np.average(feature, wieghts=*feature to use as weights*)\n",
    "  </code><br>\n",
    "The weighted mean can be used when:\n",
    "  - Some values are intrinsically more variable than others, and highly variable observations are given a lower weight. For example, if we are taking the average from multiple sensors and one of the sensors is less accurate, then we might downweight the data from that sensor.\n",
    "  - The data collected does not equally represent the different groups that we are interested in measuring. For example, because of the way an online experiment was conducted, we may not have a set of data that accurately reflects all groups in the user base. To correct that, we can give a higher weight to the values from the groups that were underrepresented."
   ]
  },
  {
   "cell_type": "markdown",
   "id": "bfa5fe15-2401-46dd-8785-61394db7fc8d",
   "metadata": {},
   "source": [
    "### Median"
   ]
  },
  {
   "cell_type": "markdown",
   "id": "8a488333-155b-4ce9-8b99-800c7ffe4688",
   "metadata": {},
   "source": [
    "is the middle value in a sorted list of data. The median depends only on the values in the center of the sorted data and is not influenced by outliers.\n",
    "<code>\n",
    "feature.median()\n",
    "</code>"
   ]
  },
  {
   "cell_type": "markdown",
   "id": "3070cec3-db5b-4b4a-b0ee-d408e39b7df2",
   "metadata": {},
   "source": [
    "Being an outlier in itself does not make a data value invalid or erroneous, although outliers are often the result of data errors or ba readings from a sensor."
   ]
  },
  {
   "cell_type": "markdown",
   "id": "4a388f8f-d497-4e48-b821-cf913a4eae9b",
   "metadata": {},
   "source": [
    "## Estimates of Variability"
   ]
  },
  {
   "cell_type": "code",
   "execution_count": null,
   "id": "aec9402c-054b-44c8-a588-25cc77fa2953",
   "metadata": {},
   "outputs": [],
   "source": []
  }
 ],
 "metadata": {
  "kernelspec": {
   "display_name": "Python 3 (ipykernel)",
   "language": "python",
   "name": "python3"
  },
  "language_info": {
   "codemirror_mode": {
    "name": "ipython",
    "version": 3
   },
   "file_extension": ".py",
   "mimetype": "text/x-python",
   "name": "python",
   "nbconvert_exporter": "python",
   "pygments_lexer": "ipython3",
   "version": "3.11.2"
  }
 },
 "nbformat": 4,
 "nbformat_minor": 5
}
