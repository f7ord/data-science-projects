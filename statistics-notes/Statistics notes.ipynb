{
 "cells": [
  {
   "cell_type": "markdown",
   "id": "0615c116-c2d1-41b3-9488-6c73c84364cf",
   "metadata": {},
   "source": [
    "# Exploratory Data Analysis"
   ]
  },
  {
   "cell_type": "markdown",
   "id": "e9b0511b-af46-4bd8-bac6-7ff0fbd9e2c9",
   "metadata": {},
   "source": [
    "This is the first step in any data science project."
   ]
  },
  {
   "cell_type": "markdown",
   "id": "32dedd5d-7e36-4701-b59a-5a1fcf67d1e8",
   "metadata": {},
   "source": [
    "## Elements of Structured Data "
   ]
  },
  {
   "cell_type": "markdown",
   "id": "f6f51c87-d7e7-48a7-8b5f-18cf45ed86f1",
   "metadata": {},
   "source": [
    "There are two basic types of structured data: **numeric** and **categorical**.\n",
    "- Numeric data comes in two forms: *continuous*, such as wind speed or time duration, and *discrete*, such as the count of the occurrence of an event.\n",
    "- Categorical data takes only a fixed set of values, such as blood type, gender, or a country name. One type of categorical data is *binary* data which takes on only one of two values, such as 0/1, true/false. Another type of categorical data is *ordinal* data in which the categories are ordered, such as a numerical rating 1,2,3,4,5"
   ]
  },
  {
   "cell_type": "markdown",
   "id": "389543ef-bdce-4359-a157-96c6918b7170",
   "metadata": {},
   "source": [
    "The data type is important to help determine the type of visual display, data analysis, or statistical model."
   ]
  },
  {
   "cell_type": "markdown",
   "id": "07612a4b-b6d4-494c-a5fb-a4f442455871",
   "metadata": {},
   "source": [
    "## Estimates of Location or Measures of Central Tendency"
   ]
  },
  {
   "cell_type": "markdown",
   "id": "23316969-5586-4c3c-92f2-d2cbbb30396c",
   "metadata": {},
   "source": [
    "Numeric data might have thousands of distinct values. A basic step in exploring the data is getting a \"typical value\" for each feature (variable): an estimate of where most of the data is located."
   ]
  },
  {
   "cell_type": "markdown",
   "id": "614ae27a-f017-4ec2-bb8f-e3a8d5d428bf",
   "metadata": {},
   "source": [
    "### Mean"
   ]
  },
  {
   "cell_type": "markdown",
   "id": "14cc76ba-328a-4954-9f04-ebe4438e8ffc",
   "metadata": {},
   "source": [
    "is the sum of all values divided by the number of values.\n",
    "<br><code>feature.mean()</code><br>\n",
    "\n",
    "Other variations of the mean are:\n",
    "- the *trimmed mean* which is calculated by dropping a fixed number of sorted values at each end and then taking an average of the remaining values. The trimmed mean eliminates the influence of extreme values (outliers).<br><code>\n",
    "  from scipy.stats import trim_mean\n",
    "  trim_mean(feature, 0.1)</code><br>\n",
    "  \n",
    "- the *weighted mean* which you calculate by multiplying each data value x<sub>i</sub>, by a user-specified weight w<sub>i</sub> and dividing their sum by the sum of the weights.<br>\n",
    "  <code>np.average(feature, weights=*feature to use as weights*)\n",
    "  </code><br>\n",
    "The weighted mean can be used when:\n",
    "  - Some values are intrinsically more variable than others, and highly variable observations are given a lower weight. For example, if we are taking the average from multiple sensors and one of the sensors is less accurate, then we might downweight the data from that sensor.\n",
    "  - The data collected does not equally represent the different groups that we are interested in measuring. For example, because of the way an online experiment was conducted, we may not have a set of data that accurately reflects all groups in the user base. To correct that, we can give a higher weight to the values from the groups that were underrepresented."
   ]
  },
  {
   "cell_type": "markdown",
   "id": "bfa5fe15-2401-46dd-8785-61394db7fc8d",
   "metadata": {},
   "source": [
    "### Median"
   ]
  },
  {
   "cell_type": "markdown",
   "id": "8a488333-155b-4ce9-8b99-800c7ffe4688",
   "metadata": {},
   "source": [
    "is the middle value in a sorted list of data. The median depends only on the values in the center of the sorted data and is not influenced by outliers.\n",
    "<code>\n",
    "feature.median()\n",
    "</code>"
   ]
  },
  {
   "cell_type": "markdown",
   "id": "3070cec3-db5b-4b4a-b0ee-d408e39b7df2",
   "metadata": {},
   "source": [
    "Being an outlier in itself does not make a data value invalid or erroneous, although outliers are often the result of data errors or bad readings from a sensor."
   ]
  },
  {
   "cell_type": "markdown",
   "id": "4a388f8f-d497-4e48-b821-cf913a4eae9b",
   "metadata": {},
   "source": [
    "## Estimates of Variability or Measures of Dispersion"
   ]
  },
  {
   "cell_type": "markdown",
   "id": "2aac22f7-cea7-4ba4-a8f0-e5c160eb5703",
   "metadata": {},
   "source": [
    "measure whether the data values are tightly clustered or spread out.\n",
    "- *Mean absolute deviation* is the average of the absolute values of the deviations from the mean.\n",
    "- *Variance* is an average of the squared deviations from the mean\n",
    "- *Standard deviation* is the square root of the variance.\n",
    "<code>feature.std()</code><br>\n",
    "\n",
    "*All the above measures are sensitive to outliers.*\n",
    "A robust estimate of variability is the *median absolute deviation from the median*\n",
    "\n",
    "- *Range* is the difference between the largest and smallest values. It is extremely sensitive to outliers.\n",
    "- The *Pth percentile* is a value such that at least P percent of the values take on this value or less and at least (100-P) percent of the values take on this value or more.<br>\n",
    "<code>np.percentile(feature, .25)</code> or <code>feature.quantile(.25)</code><br>\n",
    "- The *interquartile range* is the difference between the 25th percentile and the 75th percentile"
   ]
  },
  {
   "cell_type": "markdown",
   "id": "bca5f2b2-a9e7-4309-8533-ef8bc5bb48ea",
   "metadata": {},
   "source": [
    "## Exploring the Data Distribution"
   ]
  },
  {
   "cell_type": "code",
   "execution_count": 20,
   "id": "f02517ec-202e-4e7e-9009-d1e1818da086",
   "metadata": {},
   "outputs": [],
   "source": [
    "import pandas as pd"
   ]
  },
  {
   "cell_type": "code",
   "execution_count": 48,
   "id": "1649cf71-d9c7-45ad-a2dc-5b46126fd875",
   "metadata": {},
   "outputs": [],
   "source": [
    "x = [1, 2, 3, 3, 5, 6, 7, 10, 50]"
   ]
  },
  {
   "cell_type": "code",
   "execution_count": 49,
   "id": "f2021c2c-b6ab-436e-8e7c-26111a1ac3f7",
   "metadata": {},
   "outputs": [
    {
     "data": {
      "text/html": [
       "<div>\n",
       "<style scoped>\n",
       "    .dataframe tbody tr th:only-of-type {\n",
       "        vertical-align: middle;\n",
       "    }\n",
       "\n",
       "    .dataframe tbody tr th {\n",
       "        vertical-align: top;\n",
       "    }\n",
       "\n",
       "    .dataframe thead th {\n",
       "        text-align: right;\n",
       "    }\n",
       "</style>\n",
       "<table border=\"1\" class=\"dataframe\">\n",
       "  <thead>\n",
       "    <tr style=\"text-align: right;\">\n",
       "      <th></th>\n",
       "      <th>0</th>\n",
       "    </tr>\n",
       "  </thead>\n",
       "  <tbody>\n",
       "    <tr>\n",
       "      <th>0.05</th>\n",
       "      <td>1.4</td>\n",
       "    </tr>\n",
       "    <tr>\n",
       "      <th>0.25</th>\n",
       "      <td>3.0</td>\n",
       "    </tr>\n",
       "    <tr>\n",
       "      <th>0.50</th>\n",
       "      <td>5.0</td>\n",
       "    </tr>\n",
       "    <tr>\n",
       "      <th>0.75</th>\n",
       "      <td>7.0</td>\n",
       "    </tr>\n",
       "    <tr>\n",
       "      <th>0.95</th>\n",
       "      <td>34.0</td>\n",
       "    </tr>\n",
       "  </tbody>\n",
       "</table>\n",
       "</div>"
      ],
      "text/plain": [
       "         0\n",
       "0.05   1.4\n",
       "0.25   3.0\n",
       "0.50   5.0\n",
       "0.75   7.0\n",
       "0.95  34.0"
      ]
     },
     "execution_count": 49,
     "metadata": {},
     "output_type": "execute_result"
    }
   ],
   "source": [
    "pd.DataFrame(pd.Series(x).quantile([.05, .25, .5, .75, .95]))"
   ]
  },
  {
   "cell_type": "code",
   "execution_count": 51,
   "id": "b516305f-d3a6-49b8-9e16-d65a5280ca81",
   "metadata": {},
   "outputs": [
    {
     "data": {
      "text/plain": [
       "<Axes: >"
      ]
     },
     "execution_count": 51,
     "metadata": {},
     "output_type": "execute_result"
    },
    {
     "data": {
      "image/png": "[encoded data removed]",
      "text/plain": [
       "<Figure size 640x480 with 1 Axes>"
      ]
     },
     "metadata": {},
     "output_type": "display_data"
    }
   ],
   "source": [
    "pd.Series(x).plot(kind='box')"
   ]
  },
  {
   "cell_type": "code",
   "execution_count": 57,
   "id": "65601f75-51e1-455d-88a3-fffe87f86d84",
   "metadata": {},
   "outputs": [
    {
     "data": {
      "text/plain": [
       "{'whiskers': [<matplotlib.lines.Line2D at 0x7f2a7943a350>,\n",
       "  <matplotlib.lines.Line2D at 0x7f2a7943abd0>],\n",
       " 'caps': [<matplotlib.lines.Line2D at 0x7f2a7943b510>,\n",
       "  <matplotlib.lines.Line2D at 0x7f2a7943be90>],\n",
       " 'boxes': [<matplotlib.lines.Line2D at 0x7f2a79439ad0>],\n",
       " 'medians': [<matplotlib.lines.Line2D at 0x7f2a7942e6d0>],\n",
       " 'fliers': [<matplotlib.lines.Line2D at 0x7f2a7944ce90>],\n",
       " 'means': []}"
      ]
     },
     "execution_count": 57,
     "metadata": {},
     "output_type": "execute_result"
    },
    {
     "data": {
      "image/png": "[encoded data removed]",
      "text/plain": [
       "<Figure size 640x480 with 1 Axes>"
      ]
     },
     "metadata": {},
     "output_type": "display_data"
    }
   ],
   "source": [
    "import matplotlib.pyplot as plt\n",
    "x = [1, 2, 3, 3, 5, 6, 7, 10, 50]\n",
    "plt.boxplot(pd.Series(x))"
   ]
  },
  {
   "cell_type": "code",
   "execution_count": null,
   "id": "7ba95909-b63a-438a-b92b-393a9fdbcbe4",
   "metadata": {},
   "outputs": [],
   "source": []
  }
 ],
 "metadata": {
  "kernelspec": {
   "display_name": "Python 3 (ipykernel)",
   "language": "python",
   "name": "python3"
  },
  "language_info": {
   "codemirror_mode": {
    "name": "ipython",
    "version": 3
   },
   "file_extension": ".py",
   "mimetype": "text/x-python",
   "name": "python",
   "nbconvert_exporter": "python",
   "pygments_lexer": "ipython3",
   "version": "3.11.2"
  }
 },
 "nbformat": 4,
 "nbformat_minor": 5
}
